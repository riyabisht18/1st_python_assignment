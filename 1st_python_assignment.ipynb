{
  "nbformat": 4,
  "nbformat_minor": 0,
  "metadata": {
    "colab": {
      "provenance": []
    },
    "kernelspec": {
      "name": "python3",
      "display_name": "Python 3"
    },
    "language_info": {
      "name": "python"
    }
  },
  "cells": [
    {
      "cell_type": "markdown",
      "source": [
        "#Q1 Explain the key features of Python that make it a popular choice for programming.\n",
        "\n",
        "'''Python's popularity stems from its unique combination of features, making it an ideal choice for various programming tasks.\n",
        "\n",
        "the key features:\n",
        "\n",
        "Easy to Learn and Use\n",
        "1. Simple syntax: Concise and readable code.\n",
        "2. Forgiving: Allows for flexible coding styles.\n",
        "3. Extensive libraries: Standard library and third-party modules.\n",
        "\n",
        "Versatile\n",
        "1. General-purpose: Suitable for web development, data analysis, machine learning, automation, and more.\n",
        "2. Cross-platform: Runs on Windows, macOS, Linux, and mobile platforms.\n",
        "3. Embeddable: Can be integrated into other applications.\n",
        "\n",
        "Powerful\n",
        "1. Dynamic typing: No need for explicit type definitions.\n",
        "2. Object-oriented: Supports encapsulation, inheritance, and polymorphism.\n",
        "3. Functional programming: Supports lambda functions, map, filter, and reduce.\n",
        "\n",
        "High-Level Abstractions\n",
        "1. Automatic memory management: Garbage collection.\n",
        "2. High-level data structures: Lists, dictionaries, sets, and tuples.\n",
        "3. Exception handling: Built-in support for error handling.\n",
        "\n",
        "Large Community and Ecosystem\n",
        "1. Extensive libraries and frameworks (e.g., NumPy, pandas, Flask, Django).\n",
        "2. Active community: Forums, documentation, and conferences.\n",
        "3. Easy package management: pip and conda.'''\n",
        "\n",
        "\n",
        "\n",
        "\n",
        "\n"
      ],
      "metadata": {
        "id": "8WzLrxMQ-rWA"
      }
    },
    {
      "cell_type": "markdown",
      "source": [
        "#Q2 Describe the role of predefined keywords in Python and provide examples of how they are used in a program.\n",
        "\n",
        "## '''In Python, predefined keywords (or reserved words) are special words that have specific meanings and uses. They're essential for writing Python code.\n",
        "\n",
        "Role of Predefined Keywords:\n",
        "\n",
        "1.Conditional statements:\n",
        "- if\n",
        "-elif\n",
        "-else\n",
        "\n",
        "\n",
        "\n",
        "\n",
        "2.Loops:\n",
        "\n",
        "- for\n",
        "- while\n",
        "3.Data types:\n",
        "\n",
        "    - int\n",
        "    - float\n",
        "    - str\n",
        "    - list\n",
        "    - dict\n",
        "    - tuple\n",
        "    - set\n",
        "    - bool\n",
        "4.Functions:\n",
        "\n",
        "    - def\n",
        "    - lambda\n",
        "5.Control flow:\n",
        "\n",
        "    - break\n",
        "    - continue\n",
        "    - return\n",
        "     -yield\n",
        "6.Exception handling:\n",
        "\n",
        "    - try\n",
        "    - except\n",
        "    - finally\n",
        "7.Classes:\n",
        "\n",
        "  -class\n",
        "\n",
        "8.Import Keywords:\n",
        " - import\n",
        " - from\n",
        " - as\n",
        "\n",
        "9.Miscellaneous Keywords:\n",
        "-  and\n",
        "- or\n",
        "-  not\n",
        "-  in\n",
        "-  is\n",
        "- True\n",
        "-  False\n",
        "-  None\n",
        "-  pass\n",
        "-  print\n",
        "-  del\n",
        "- global\n",
        "- nonlocal\n",
        "\n",
        "\n",
        "\n",
        "\n",
        "\n",
        "\n",
        "\n",
        "\n"
      ],
      "metadata": {
        "id": "IL2a7uUq-DGF"
      }
    },
    {
      "cell_type": "code",
      "source": [
        "#examples of how they are used in a program\n",
        "\n",
        "#Conditional Statements:\n",
        "x = 10\n",
        "if x > 5:\n",
        "    print(\"x is greater than 5\")\n",
        "else:\n",
        "    print(\"x is not greater than 5\")"
      ],
      "metadata": {
        "colab": {
          "base_uri": "https://localhost:8080/"
        },
        "id": "j8EigpqXYUJQ",
        "outputId": "dd87162a-1775-4cd2-fe31-9b223ee6f0b6"
      },
      "execution_count": null,
      "outputs": [
        {
          "output_type": "stream",
          "name": "stdout",
          "text": [
            "x is greater than 5\n"
          ]
        }
      ]
    },
    {
      "cell_type": "code",
      "source": [
        "marks = 85\n",
        "if (marks >= 90 and marks <= 100):\n",
        "    print(\"Grade: A\")\n",
        "elif (marks >= 70 and marks < 90):\n",
        "    print(\"Grade: B\")\n",
        "elif marks >= 50 and marks < 70:\n",
        "    print(\"Grade: C\")\n",
        "elif marks >=33 and marks < 50:\n",
        "    print(\"Grade: D\")\n",
        "else:\n",
        "  print(\"fail\")\n"
      ],
      "metadata": {
        "colab": {
          "base_uri": "https://localhost:8080/"
        },
        "id": "-TSdYZhRV5pf",
        "outputId": "655e1973-668d-42e3-cbb0-0b6cc4c93dd4"
      },
      "execution_count": null,
      "outputs": [
        {
          "output_type": "stream",
          "name": "stdout",
          "text": [
            "Grade: B\n"
          ]
        }
      ]
    },
    {
      "cell_type": "code",
      "source": [
        "#data types\n",
        "x = 45\n",
        "print(type(x))"
      ],
      "metadata": {
        "colab": {
          "base_uri": "https://localhost:8080/"
        },
        "id": "ghbnct7OYbU0",
        "outputId": "0eb488e8-2c00-4d0d-ed6c-b60197b20de7"
      },
      "execution_count": null,
      "outputs": [
        {
          "output_type": "stream",
          "name": "stdout",
          "text": [
            "<class 'int'>\n"
          ]
        }
      ]
    },
    {
      "cell_type": "code",
      "source": [
        "fruit_list =[\"apple\",\"banana\",\"mango\"]\n",
        "print(type(fruit_list))"
      ],
      "metadata": {
        "colab": {
          "base_uri": "https://localhost:8080/"
        },
        "id": "vNHKTf7bUvTP",
        "outputId": "e68ddf41-d8fa-45b9-e796-06fc29dbeafd"
      },
      "execution_count": null,
      "outputs": [
        {
          "output_type": "stream",
          "name": "stdout",
          "text": [
            "<class 'list'>\n"
          ]
        }
      ]
    },
    {
      "cell_type": "code",
      "source": [
        "Name  = \"mukki\"\n",
        "print(type(Name))"
      ],
      "metadata": {
        "colab": {
          "base_uri": "https://localhost:8080/"
        },
        "id": "G-WPDt3oZysB",
        "outputId": "922f08b3-e3dd-4ac3-bd59-5ff668886528"
      },
      "execution_count": null,
      "outputs": [
        {
          "output_type": "stream",
          "name": "stdout",
          "text": [
            "<class 'str'>\n"
          ]
        }
      ]
    },
    {
      "cell_type": "code",
      "source": [
        "float_num = 3.14\n",
        "print(type(float_num))"
      ],
      "metadata": {
        "colab": {
          "base_uri": "https://localhost:8080/"
        },
        "id": "65Zh6zk_aRox",
        "outputId": "057a156a-0dcf-42fd-a3ef-4a62179466f1"
      },
      "execution_count": null,
      "outputs": [
        {
          "output_type": "stream",
          "name": "stdout",
          "text": [
            "<class 'float'>\n"
          ]
        }
      ]
    },
    {
      "cell_type": "code",
      "source": [
        "#control flow\n",
        "n = 7\n",
        "i = 1\n",
        "while i < n :\n",
        "  print(i)\n",
        "  i  = i +1"
      ],
      "metadata": {
        "colab": {
          "base_uri": "https://localhost:8080/"
        },
        "id": "NZhjwdpvZPhs",
        "outputId": "645bdd37-cbdb-4a93-bc5a-219e15da472b"
      },
      "execution_count": null,
      "outputs": [
        {
          "output_type": "stream",
          "name": "stdout",
          "text": [
            "1\n",
            "2\n",
            "3\n",
            "4\n",
            "5\n",
            "6\n"
          ]
        }
      ]
    },
    {
      "cell_type": "code",
      "source": [
        "for i in range(10):\n",
        "  print(i)\n",
        "  if i ==5:\n",
        "    break\n"
      ],
      "metadata": {
        "colab": {
          "base_uri": "https://localhost:8080/"
        },
        "id": "KwQekjQ3XBsn",
        "outputId": "95df6917-bc1b-45e1-e416-ff48db26869f"
      },
      "execution_count": null,
      "outputs": [
        {
          "output_type": "stream",
          "name": "stdout",
          "text": [
            "0\n",
            "1\n",
            "2\n",
            "3\n",
            "4\n",
            "5\n"
          ]
        }
      ]
    },
    {
      "cell_type": "code",
      "source": [
        "for i in range(10):\n",
        "  if i ==5:\n",
        "    continue\n",
        "  print(i)\n"
      ],
      "metadata": {
        "colab": {
          "base_uri": "https://localhost:8080/"
        },
        "id": "EjEfj8qiXuZR",
        "outputId": "8ecfca5c-ff00-4df2-ea5f-b8c046c4a4a2"
      },
      "execution_count": null,
      "outputs": [
        {
          "output_type": "stream",
          "name": "stdout",
          "text": [
            "0\n",
            "1\n",
            "2\n",
            "3\n",
            "4\n",
            "6\n",
            "7\n",
            "8\n",
            "9\n",
            "all the number \n"
          ]
        }
      ]
    },
    {
      "cell_type": "markdown",
      "source": [
        "#Q3 compare and contrast mutable and immutable obejcts in python with examples"
      ],
      "metadata": {
        "id": "P7TZppHx-Yfu"
      }
    },
    {
      "cell_type": "markdown",
      "source": [
        "# Mutable Objects in Python--\n",
        "\n",
        "## mutable objects refer to entities whose internal state can be altered after creation. Once instantiated, these objects allow modifications to their values, offering flexibility in data manipulation.'''"
      ],
      "metadata": {
        "id": "GnXESxMn83Aa"
      }
    },
    {
      "cell_type": "code",
      "source": [
        "#example of mutable obejcts in python\n",
        "\n",
        "my_list = [1, 2, 3]\n",
        "my_list.append(4)\n",
        "print(my_list)"
      ],
      "metadata": {
        "colab": {
          "base_uri": "https://localhost:8080/"
        },
        "id": "4Li1NG_M5T7k",
        "outputId": "9568520c-6f0e-4df2-8856-d396d4d55c62"
      },
      "execution_count": null,
      "outputs": [
        {
          "output_type": "stream",
          "name": "stdout",
          "text": [
            "[1, 2, 3, 4]\n"
          ]
        }
      ]
    },
    {
      "cell_type": "code",
      "source": [
        "list1 =[\"rohit\",45,\"delhi\"]\n",
        "list1[0] =\"rohan\"\n",
        "print(list1)"
      ],
      "metadata": {
        "colab": {
          "base_uri": "https://localhost:8080/"
        },
        "id": "Ww8SfjZL6pnu",
        "outputId": "ba133f37-5fb9-4241-8232-7d79331a4b2a"
      },
      "execution_count": null,
      "outputs": [
        {
          "output_type": "stream",
          "name": "stdout",
          "text": [
            "['rohan', 45, 'delhi']\n"
          ]
        }
      ]
    },
    {
      "cell_type": "markdown",
      "source": [
        "# Immutable Objects in Python\n",
        "## Immutable Objects are of in-built datatypes like int, float, bool, string, Unicode, and tuple. In simple words, an immutable object can’t be changed after it is created."
      ],
      "metadata": {
        "id": "xMNH4N6-8dnv"
      }
    },
    {
      "cell_type": "code",
      "source": [
        "#example of immutable obejcts in python\n",
        "\n",
        "tuble1 = (1,2,3,4)\n",
        "tuble1[0]= 45\n",
        "\n",
        "type(tuble1)"
      ],
      "metadata": {
        "colab": {
          "base_uri": "https://localhost:8080/",
          "height": 211
        },
        "id": "X4stxRT0_dLp",
        "outputId": "daf85d8b-6900-4c1a-f5bb-9b8807dd7966"
      },
      "execution_count": null,
      "outputs": [
        {
          "output_type": "error",
          "ename": "TypeError",
          "evalue": "'tuple' object does not support item assignment",
          "traceback": [
            "\u001b[0;31m---------------------------------------------------------------------------\u001b[0m",
            "\u001b[0;31mTypeError\u001b[0m                                 Traceback (most recent call last)",
            "\u001b[0;32m<ipython-input-13-71f9cacf9bde>\u001b[0m in \u001b[0;36m<cell line: 4>\u001b[0;34m()\u001b[0m\n\u001b[1;32m      2\u001b[0m \u001b[0;34m\u001b[0m\u001b[0m\n\u001b[1;32m      3\u001b[0m \u001b[0mtuble1\u001b[0m \u001b[0;34m=\u001b[0m \u001b[0;34m(\u001b[0m\u001b[0;36m1\u001b[0m\u001b[0;34m,\u001b[0m\u001b[0;36m2\u001b[0m\u001b[0;34m,\u001b[0m\u001b[0;36m3\u001b[0m\u001b[0;34m,\u001b[0m\u001b[0;36m4\u001b[0m\u001b[0;34m)\u001b[0m\u001b[0;34m\u001b[0m\u001b[0;34m\u001b[0m\u001b[0m\n\u001b[0;32m----> 4\u001b[0;31m \u001b[0mtuble1\u001b[0m\u001b[0;34m[\u001b[0m\u001b[0;36m0\u001b[0m\u001b[0;34m]\u001b[0m\u001b[0;34m=\u001b[0m \u001b[0;36m45\u001b[0m\u001b[0;34m\u001b[0m\u001b[0;34m\u001b[0m\u001b[0m\n\u001b[0m\u001b[1;32m      5\u001b[0m \u001b[0;34m\u001b[0m\u001b[0m\n\u001b[1;32m      6\u001b[0m \u001b[0mtype\u001b[0m\u001b[0;34m(\u001b[0m\u001b[0mtuble1\u001b[0m\u001b[0;34m)\u001b[0m\u001b[0;34m\u001b[0m\u001b[0;34m\u001b[0m\u001b[0m\n",
            "\u001b[0;31mTypeError\u001b[0m: 'tuple' object does not support item assignment"
          ]
        }
      ]
    },
    {
      "cell_type": "code",
      "source": [
        "#example\n",
        "\n",
        "str1 = \"rohit\"\n",
        "str1[0] = \"r\""
      ],
      "metadata": {
        "colab": {
          "base_uri": "https://localhost:8080/",
          "height": 176
        },
        "id": "gq-Ef5ic_qke",
        "outputId": "cecec815-8d2a-484e-9477-d44a792f2bf5"
      },
      "execution_count": null,
      "outputs": [
        {
          "output_type": "error",
          "ename": "TypeError",
          "evalue": "'str' object does not support item assignment",
          "traceback": [
            "\u001b[0;31m---------------------------------------------------------------------------\u001b[0m",
            "\u001b[0;31mTypeError\u001b[0m                                 Traceback (most recent call last)",
            "\u001b[0;32m<ipython-input-14-2229cf234a54>\u001b[0m in \u001b[0;36m<cell line: 4>\u001b[0;34m()\u001b[0m\n\u001b[1;32m      2\u001b[0m \u001b[0;34m\u001b[0m\u001b[0m\n\u001b[1;32m      3\u001b[0m \u001b[0mstr1\u001b[0m \u001b[0;34m=\u001b[0m \u001b[0;34m\"rohit\"\u001b[0m\u001b[0;34m\u001b[0m\u001b[0;34m\u001b[0m\u001b[0m\n\u001b[0;32m----> 4\u001b[0;31m \u001b[0mstr1\u001b[0m\u001b[0;34m[\u001b[0m\u001b[0;36m0\u001b[0m\u001b[0;34m]\u001b[0m \u001b[0;34m=\u001b[0m \u001b[0;34m\"r\"\u001b[0m\u001b[0;34m\u001b[0m\u001b[0;34m\u001b[0m\u001b[0m\n\u001b[0m",
            "\u001b[0;31mTypeError\u001b[0m: 'str' object does not support item assignment"
          ]
        }
      ]
    },
    {
      "cell_type": "markdown",
      "source": [
        "## Q4 Discuss the different types of operators in Python and provide examples of how they are used\n",
        "\n",
        "#* types of operators\n",
        "# An operator is a symbol that performs a certain operation between operands\n",
        "\n",
        "# 1 arithmetic operators-\n",
        "## Arithmetic operators are used with numeric values to perform common mathematical operations:\n",
        "\n",
        "\n",
        "  \n",
        "\n",
        "1. Addition(+)\n",
        "2. Subtraction(-)\n",
        "3. Multiplication(*)\n",
        "4. Division(/)\n",
        "5. Modulus(%)\n",
        "6. Exponentiation\t(**)\n",
        "7. Floor division(//)\n",
        "\n",
        "\n",
        "\n",
        "\n",
        "\n",
        "\n",
        "\n",
        "   \n",
        "\n",
        "\n",
        "\n",
        "\n",
        "\n"
      ],
      "metadata": {
        "id": "VBtLjhZjAroA"
      }
    },
    {
      "cell_type": "code",
      "source": [
        "# example of arithmatic operators\n",
        "\n",
        "x = 4\n",
        "y =2\n",
        "print(\"addition :\" , x+y)\n",
        "print(\"Subtraction :\" , x-y)\n",
        "print(\"Multiplication :\", x*y)\n",
        "print(\"Division :\" , x/y)\n",
        "print(\"Modulus :\", x % y)\n",
        "print(\"Exponentiation:\", x**y)\n",
        "print(\"Floor division:\" , x//y)\n",
        "\n",
        "\n"
      ],
      "metadata": {
        "colab": {
          "base_uri": "https://localhost:8080/"
        },
        "id": "afeXMPlDAYK9",
        "outputId": "a57c4080-caa5-4ae6-9011-1acfa8b4e0fd"
      },
      "execution_count": null,
      "outputs": [
        {
          "output_type": "stream",
          "name": "stdout",
          "text": [
            "addition : 6\n",
            "Subtraction : 2\n",
            "Multiplication : 8\n",
            "Division : 2.0\n",
            "Modulus : 0\n",
            "Exponentiation: 16\n",
            "Floor division: 2\n"
          ]
        }
      ]
    },
    {
      "cell_type": "markdown",
      "source": [
        "# Python Assignment Operators\n",
        "## Assignment operators are used to assign values to variables:\n",
        "\n",
        "1.Assign(=)\n",
        "\n",
        "2.Add and assign(+=)\n",
        "\n",
        "3.Subtract and Assign(-=)\n",
        "\n",
        "4.Multiply and Assign(*=)\n",
        "\n",
        "5.Divide and Assign(/=)\n",
        "\n",
        "6.Floor Divide and Assign(//=)\n",
        "\n",
        "7.Exponentiate and Assign(**=)\n",
        "\n",
        "8.Modulus and Assign(%=)\n",
        "\n"
      ],
      "metadata": {
        "id": "WB7bvw8JK-hv"
      }
    },
    {
      "cell_type": "code",
      "source": [
        "#examples of assignment orperators\n",
        "x = 8\n",
        "print(\"assign(=):\" , x)"
      ],
      "metadata": {
        "colab": {
          "base_uri": "https://localhost:8080/"
        },
        "id": "Tn9pxjPicDlg",
        "outputId": "e6237289-8890-4423-84ee-5775773f1538"
      },
      "execution_count": null,
      "outputs": [
        {
          "output_type": "stream",
          "name": "stdout",
          "text": [
            "assign(=): 8\n"
          ]
        }
      ]
    },
    {
      "cell_type": "code",
      "source": [
        "x = 8\n",
        "x+=3\n",
        "print(\"Add and assign(+=):\",x)"
      ],
      "metadata": {
        "colab": {
          "base_uri": "https://localhost:8080/"
        },
        "id": "-6CVLkBtcj9o",
        "outputId": "3de7b8ae-bbbb-472c-d9b4-8883ea469dd9"
      },
      "execution_count": null,
      "outputs": [
        {
          "output_type": "stream",
          "name": "stdout",
          "text": [
            "Add and assign(+=): 11\n"
          ]
        }
      ]
    },
    {
      "cell_type": "code",
      "source": [
        "x = 8\n",
        "x-=3\n",
        "print(\"Subtract and Assign(-=):\",x)"
      ],
      "metadata": {
        "colab": {
          "base_uri": "https://localhost:8080/"
        },
        "id": "K1xK_o0xmN-B",
        "outputId": "e2cd8d2f-2d1e-4c38-d191-bc8033109b33"
      },
      "execution_count": null,
      "outputs": [
        {
          "output_type": "stream",
          "name": "stdout",
          "text": [
            "Subtract and Assign(-=): 5\n"
          ]
        }
      ]
    },
    {
      "cell_type": "code",
      "source": [
        "x = 8\n",
        "x*=3\n",
        "print(\"Multiply and Assign(*=):\" , x)"
      ],
      "metadata": {
        "colab": {
          "base_uri": "https://localhost:8080/"
        },
        "id": "UWA3ZZ5UmWC2",
        "outputId": "b81856d9-4834-4fd8-e910-a8c5ffd208e5"
      },
      "execution_count": null,
      "outputs": [
        {
          "output_type": "stream",
          "name": "stdout",
          "text": [
            "Multiply and Assign(*=): 24\n"
          ]
        }
      ]
    },
    {
      "cell_type": "code",
      "source": [
        "x = 8\n",
        "x/=3\n",
        "print(\"Divide and Assign(/=):\" , x)"
      ],
      "metadata": {
        "colab": {
          "base_uri": "https://localhost:8080/"
        },
        "id": "JCjjOc_mmtWw",
        "outputId": "3c53b4be-dcf5-40a4-e7de-7342ef4b0061"
      },
      "execution_count": null,
      "outputs": [
        {
          "output_type": "stream",
          "name": "stdout",
          "text": [
            "Divide and Assign(/=): 2.6666666666666665\n"
          ]
        }
      ]
    },
    {
      "cell_type": "code",
      "source": [
        "x = 8\n",
        "x//=3\n",
        "print(\"Floor Divide and Assign(//=):\" , x)"
      ],
      "metadata": {
        "colab": {
          "base_uri": "https://localhost:8080/"
        },
        "id": "5fLU5Td-m75w",
        "outputId": "e52d4803-e53b-4854-a1b0-acca8ea8898b"
      },
      "execution_count": null,
      "outputs": [
        {
          "output_type": "stream",
          "name": "stdout",
          "text": [
            "Floor Divide and Assign(//=): 2\n"
          ]
        }
      ]
    },
    {
      "cell_type": "code",
      "source": [
        "x = 8\n",
        "x**=3\n",
        "print(\"Exponentiate and Assign(**=):\" , x)"
      ],
      "metadata": {
        "colab": {
          "base_uri": "https://localhost:8080/"
        },
        "id": "3UMIWx46nJLi",
        "outputId": "f4dde1b6-0d94-4010-f1aa-93767ff18a63"
      },
      "execution_count": null,
      "outputs": [
        {
          "output_type": "stream",
          "name": "stdout",
          "text": [
            "Exponentiate and Assign(**=): 512\n"
          ]
        }
      ]
    },
    {
      "cell_type": "code",
      "source": [
        "x = 8\n",
        "x%=3\n",
        "print(\"Modulus and Assign(%=):\" , x)"
      ],
      "metadata": {
        "colab": {
          "base_uri": "https://localhost:8080/"
        },
        "id": "RVj0aD0qnL2y",
        "outputId": "5b44ebc8-59f2-45ca-b6cc-a0abffeae2e0"
      },
      "execution_count": null,
      "outputs": [
        {
          "output_type": "stream",
          "name": "stdout",
          "text": [
            "Modulus and Assign(%=): 2\n"
          ]
        }
      ]
    },
    {
      "cell_type": "markdown",
      "source": [
        "# Python Comparison Operators-\n",
        "## Comparison operators are used to compare two values:\n",
        "\n",
        "1. Equal(==)\n",
        "2. Not equal(!=)\n",
        "3. Greater than(>)\n",
        "4. less than(<)\n",
        "5. \tGreater than or equal to(>=)\n",
        "6. less than or equal to (<=)\n",
        "\n",
        "\n",
        "\n"
      ],
      "metadata": {
        "id": "L8OKUnELoEP8"
      }
    },
    {
      "cell_type": "code",
      "source": [
        "#example of comparion operators\n",
        "\n",
        "a = 10\n",
        "b = 20\n",
        "print(\"equal(==):\" , a==b)\n",
        "print(\"not equal(!=):\" , a!=b)\n",
        "print(\"greater than(>):\" , a>b)\n",
        "print(\"less than(<):\" , a<b)\n",
        "print(\"greater than or equal to(>=):\" , a>=b)\n",
        "print(\"less than or equal to(<=):\" , a<=b)"
      ],
      "metadata": {
        "colab": {
          "base_uri": "https://localhost:8080/"
        },
        "id": "AXZeljoXnTBR",
        "outputId": "73519eeb-df55-4c7b-cb15-3d194a6173d6"
      },
      "execution_count": null,
      "outputs": [
        {
          "output_type": "stream",
          "name": "stdout",
          "text": [
            "equal(==): False\n",
            "not equal(!=): True\n",
            "greater than(>): False\n",
            "less than(<): True\n",
            "greater than or equal to(>=): False\n",
            "less than or equal to(<=): True\n"
          ]
        }
      ]
    },
    {
      "cell_type": "markdown",
      "source": [
        "# Python Logical Operators\n",
        "## Logical operators are used to combine conditional statements:\n",
        "\n",
        "## 1. and (Returns True if both statements are true)\n",
        "## 2. or(Returns True if one of the statements is true\t)\n",
        "## 3. not(\tReverse the result, returns False if the result is true)"
      ],
      "metadata": {
        "id": "vIaaKTnXq7ic"
      }
    },
    {
      "cell_type": "code",
      "source": [
        "#example of logical operators\n",
        "\n",
        "num1=20\n",
        "num2=20\n",
        "print(\"and logical operators:\", num1>=num2 and num2>=num1)\n"
      ],
      "metadata": {
        "colab": {
          "base_uri": "https://localhost:8080/"
        },
        "id": "hafluIR4pgN5",
        "outputId": "5928aa9c-319f-414c-cac7-57a40cb4cf39"
      },
      "execution_count": null,
      "outputs": [
        {
          "output_type": "stream",
          "name": "stdout",
          "text": [
            "and logical operators: True\n"
          ]
        }
      ]
    },
    {
      "cell_type": "code",
      "source": [
        "x = 10\n",
        "y = 20\n",
        "print(\"or logical operators:\" , x>y or y>x)"
      ],
      "metadata": {
        "colab": {
          "base_uri": "https://localhost:8080/"
        },
        "id": "ybB5Kf90s63Z",
        "outputId": "69400a76-aa8b-4e9d-8d65-a48c31c189be"
      },
      "execution_count": null,
      "outputs": [
        {
          "output_type": "stream",
          "name": "stdout",
          "text": [
            "or logical operators: True\n"
          ]
        }
      ]
    },
    {
      "cell_type": "code",
      "source": [
        "a = 40\n",
        "b = 20\n",
        "print(\"not logical operators:\",not(a>b))"
      ],
      "metadata": {
        "colab": {
          "base_uri": "https://localhost:8080/"
        },
        "id": "dcYlvAqZt3xk",
        "outputId": "87e6fe88-8686-475b-dd66-aac65da16b7c"
      },
      "execution_count": null,
      "outputs": [
        {
          "output_type": "stream",
          "name": "stdout",
          "text": [
            "not logical operators: False\n"
          ]
        }
      ]
    },
    {
      "cell_type": "code",
      "source": [],
      "metadata": {
        "id": "XUu8bvWfuEj5"
      },
      "execution_count": null,
      "outputs": []
    },
    {
      "cell_type": "markdown",
      "source": [
        "## Python Identity Operators\n",
        "\n",
        "## Identity operators are used to compare the objects, not if they are equal, but if they are actually the same object, with the same memory location:\n",
        "\n",
        "## 1. is (Returns True if both variables are the same object)\n",
        "## 2.is not\t(Returns True if both variables are not the same object)"
      ],
      "metadata": {
        "id": "hMVGo7FAuU4c"
      }
    },
    {
      "cell_type": "code",
      "source": [
        "#example  of Python Identity Operators\n",
        "\n",
        "name = \"rohit\"\n",
        "name1 = \"rohit\"\n",
        "print(\"is identity operators:\" , name is name1)"
      ],
      "metadata": {
        "colab": {
          "base_uri": "https://localhost:8080/"
        },
        "id": "3-lXnjkzu2ek",
        "outputId": "8e6886b0-5591-45df-c560-52b27d82e950"
      },
      "execution_count": null,
      "outputs": [
        {
          "output_type": "stream",
          "name": "stdout",
          "text": [
            "is identity operators: True\n"
          ]
        }
      ]
    },
    {
      "cell_type": "code",
      "source": [
        "a = \"car\"\n",
        "b = \"bike\"\n",
        "print(\"is not identity operators:\",a is not b)"
      ],
      "metadata": {
        "colab": {
          "base_uri": "https://localhost:8080/"
        },
        "id": "rpIrFdvsvPvC",
        "outputId": "7e805441-d955-426a-f1a3-756e61e02b69"
      },
      "execution_count": null,
      "outputs": [
        {
          "output_type": "stream",
          "name": "stdout",
          "text": [
            "is not identity operators: True\n"
          ]
        }
      ]
    },
    {
      "cell_type": "markdown",
      "source": [
        "# Python Membership Operators\n",
        "\n",
        "## Membership operators are used to test if a sequence is presented in an object:\n",
        "\n",
        "## 1. in (Returns True if a sequence with the specified value is present in the object)\n",
        "## 2. not in\t(Returns True if a sequence with the specified value is not present in the object)"
      ],
      "metadata": {
        "id": "HdrtalBJxAID"
      }
    },
    {
      "cell_type": "code",
      "source": [
        "#example of membership operators\n",
        "\n",
        "list1 = [1,2,3,4,5]\n",
        "print(\"in membership operators:\" , 2 in list1)"
      ],
      "metadata": {
        "colab": {
          "base_uri": "https://localhost:8080/"
        },
        "id": "hclAtJnbvjvp",
        "outputId": "45339817-0c3e-4ad4-fdf1-64ee832183ac"
      },
      "execution_count": null,
      "outputs": [
        {
          "output_type": "stream",
          "name": "stdout",
          "text": [
            "in membership operators: True\n"
          ]
        }
      ]
    },
    {
      "cell_type": "code",
      "source": [
        "list2 = [1,2,3,4,5]\n",
        "print(\"not in membership operators:\" , 6 not in list2)"
      ],
      "metadata": {
        "colab": {
          "base_uri": "https://localhost:8080/"
        },
        "id": "zDK_LhPIx7DV",
        "outputId": "d17c9354-5a93-48bc-ffdb-68f61152c4c8"
      },
      "execution_count": null,
      "outputs": [
        {
          "output_type": "stream",
          "name": "stdout",
          "text": [
            "not in membership operators: True\n"
          ]
        }
      ]
    },
    {
      "cell_type": "markdown",
      "source": [
        "# Python Bitwise Operators\n",
        "## Bitwise operators are used to compare (binary) numbers:\n",
        "\n",
        "##> Bitwise AND(&) :\tResult bit 1, if both operand bits are 1; otherwise results bit 0.\n",
        "\n",
        "## >Bitwise OR(|)\t:Result bit 1, if any of the operand bit is 1; otherwise results bit 0.\n",
        "\n",
        "## >Bitwise XOR(^) :\tResult bit 1, if any of the operand bit is 1 but not both, otherwise results bit 0.\n",
        "\n",
        "## >Bitwise NOT(~) : Inverts individual bits.\n",
        "\n",
        "## >Bitwise right shift(>>) : The left operand’s value is moved toward right by the number of bits .\n",
        "\n",
        "## >Bitwise left shift(<<) : The left operand’s value is moved toward left by the number of bits .\n",
        "\n",
        "\n",
        "\n"
      ],
      "metadata": {
        "id": "v4P_CBve0SZL"
      }
    },
    {
      "cell_type": "code",
      "source": [
        "# example of bitwise operators\n",
        "x = 17\n",
        "y = 3\n",
        "print(\"bitwise and operators : \",x & y)\n",
        "print(\"bitwise or operators : \",x | y)\n",
        "print(\"bitwise xor operators : \",x ^ y)\n",
        "print(\"bitwise not operators : \", ~ y)\n",
        "print(\"bitwise right shift operators : \",x >> y)\n",
        "print(\"bitwise left shift operators : \",x << y)"
      ],
      "metadata": {
        "colab": {
          "base_uri": "https://localhost:8080/"
        },
        "id": "MuGgxwggFIV_",
        "outputId": "1177ed51-a4cb-4894-8100-6d0b012d1545"
      },
      "execution_count": 5,
      "outputs": [
        {
          "output_type": "stream",
          "name": "stdout",
          "text": [
            "bitwise and operators :  1\n",
            "bitwise or operators :  19\n",
            "bitwise xor operators :  18\n",
            "bitwise not operators :  -4\n",
            "bitwise right shift operators :  2\n",
            "bitwise left shift operators :  136\n"
          ]
        }
      ]
    },
    {
      "cell_type": "markdown",
      "source": [
        "# Q5 Explain the concept of type casting in Python with examples\n",
        "\n",
        "# the conversion of one data type into  the other data type is known as type casting in python or type conversion in python\n",
        "\n",
        "\n",
        "\n",
        "# *  Two types of typecasting\n",
        "## 1. explicit typecasting\n",
        "## 2. implicit typecasting\n",
        "\n",
        "\n",
        "# 1. expilicit typecasting-\n",
        "## the coversion of one data type into another type , done programmer's intervention or manually as per the requirement , is known as explicit typecasting.\n",
        "\n",
        "## It can be achieved with the help of python's built in type conversion function such as int(),float(),str()etc.\n",
        "\n"
      ],
      "metadata": {
        "id": "UF3aX2J61FOC"
      }
    },
    {
      "cell_type": "code",
      "source": [
        "# example\n",
        "# string to integer\n",
        "string =\"45\"\n",
        "number =45\n",
        "print(int(string)+number)\n",
        "print(type(int(string)))"
      ],
      "metadata": {
        "colab": {
          "base_uri": "https://localhost:8080/"
        },
        "id": "dAcRRcBsylVp",
        "outputId": "c979d5da-0a17-4738-fc3c-5636234b0063"
      },
      "execution_count": null,
      "outputs": [
        {
          "output_type": "stream",
          "name": "stdout",
          "text": [
            "90\n",
            "<class 'int'>\n"
          ]
        }
      ]
    },
    {
      "cell_type": "code",
      "source": [
        "# float to integer\n",
        "float_num = 3.14\n",
        "int_num = 10\n",
        "print(int(float_num+int_num))\n",
        "print(type(int(float_num+int_num)))\n"
      ],
      "metadata": {
        "colab": {
          "base_uri": "https://localhost:8080/"
        },
        "id": "cOfsTyH6dnRj",
        "outputId": "b4a5036a-e59a-4929-a0df-c9d2f8d4590f"
      },
      "execution_count": null,
      "outputs": [
        {
          "output_type": "stream",
          "name": "stdout",
          "text": [
            "13\n",
            "<class 'int'>\n"
          ]
        }
      ]
    },
    {
      "cell_type": "code",
      "source": [
        "# string to float\n",
        "string_num=\"10\"\n",
        "print(float(string_num))\n",
        "print(type(float(string_num)))"
      ],
      "metadata": {
        "colab": {
          "base_uri": "https://localhost:8080/"
        },
        "id": "K_AxJAx-eCou",
        "outputId": "4a60d629-282b-4c7b-836f-2cde1114c259"
      },
      "execution_count": null,
      "outputs": [
        {
          "output_type": "stream",
          "name": "stdout",
          "text": [
            "10.0\n",
            "<class 'float'>\n"
          ]
        }
      ]
    },
    {
      "cell_type": "code",
      "source": [
        "# float to string\n",
        "float_ = 1.5\n",
        "str(float_)\n"
      ],
      "metadata": {
        "colab": {
          "base_uri": "https://localhost:8080/",
          "height": 35
        },
        "id": "K2EVmn2Xe8L1",
        "outputId": "89eb24c0-e900-4cdb-b6c4-42c64a8b1981"
      },
      "execution_count": null,
      "outputs": [
        {
          "output_type": "execute_result",
          "data": {
            "text/plain": [
              "'1.5'"
            ],
            "application/vnd.google.colaboratory.intrinsic+json": {
              "type": "string"
            }
          },
          "metadata": {},
          "execution_count": 57
        }
      ]
    },
    {
      "cell_type": "code",
      "source": [
        "# integer to float\n",
        "int_ = 10\n",
        "float(int_)\n"
      ],
      "metadata": {
        "colab": {
          "base_uri": "https://localhost:8080/"
        },
        "id": "mOu50w5OfOr3",
        "outputId": "24630c95-c87a-467e-b239-6f9d4a657256"
      },
      "execution_count": null,
      "outputs": [
        {
          "output_type": "execute_result",
          "data": {
            "text/plain": [
              "10.0"
            ]
          },
          "metadata": {},
          "execution_count": 55
        }
      ]
    },
    {
      "cell_type": "code",
      "source": [
        "# complex to string\n",
        "complex = 1+2j\n",
        "str(complex)\n"
      ],
      "metadata": {
        "colab": {
          "base_uri": "https://localhost:8080/",
          "height": 35
        },
        "id": "jdOT-8b5qld1",
        "outputId": "43879891-21e6-4086-c241-6fe6375074fd"
      },
      "execution_count": null,
      "outputs": [
        {
          "output_type": "execute_result",
          "data": {
            "text/plain": [
              "'(1+2j)'"
            ],
            "application/vnd.google.colaboratory.intrinsic+json": {
              "type": "string"
            }
          },
          "metadata": {},
          "execution_count": 63
        }
      ]
    },
    {
      "cell_type": "code",
      "source": [
        "# #character cannot be converted into numbers\n",
        "a = \"school\"\n",
        "int(a)"
      ],
      "metadata": {
        "colab": {
          "base_uri": "https://localhost:8080/",
          "height": 176
        },
        "id": "DfYtzAGtkZY2",
        "outputId": "54dcfb59-d1c4-49cc-fda4-c7557f9b8964"
      },
      "execution_count": null,
      "outputs": [
        {
          "output_type": "error",
          "ename": "ValueError",
          "evalue": "invalid literal for int() with base 10: 'school'",
          "traceback": [
            "\u001b[0;31m---------------------------------------------------------------------------\u001b[0m",
            "\u001b[0;31mValueError\u001b[0m                                Traceback (most recent call last)",
            "\u001b[0;32m<ipython-input-58-c649de71af73>\u001b[0m in \u001b[0;36m<cell line: 3>\u001b[0;34m()\u001b[0m\n\u001b[1;32m      1\u001b[0m \u001b[0;31m# #character cannot be converted into numbers\u001b[0m\u001b[0;34m\u001b[0m\u001b[0;34m\u001b[0m\u001b[0m\n\u001b[1;32m      2\u001b[0m \u001b[0ma\u001b[0m \u001b[0;34m=\u001b[0m \u001b[0;34m\"school\"\u001b[0m\u001b[0;34m\u001b[0m\u001b[0;34m\u001b[0m\u001b[0m\n\u001b[0;32m----> 3\u001b[0;31m \u001b[0mint\u001b[0m\u001b[0;34m(\u001b[0m\u001b[0ma\u001b[0m\u001b[0;34m)\u001b[0m\u001b[0;34m\u001b[0m\u001b[0;34m\u001b[0m\u001b[0m\n\u001b[0m",
            "\u001b[0;31mValueError\u001b[0m: invalid literal for int() with base 10: 'school'"
          ]
        }
      ]
    },
    {
      "cell_type": "markdown",
      "source": [
        "# 2.implicit typecasting:\n",
        "\n",
        "## Data types in Python do not have the same level . ordering of data types is not the same in Python. Some of the data types have higher-order, and some have lower order. While performing any operations on variables with different data types in Python, one of the variable's data types will be changed to the higher data type. According to the level, one data type is converted into other by the Python interpreter itself (automatically). This is called, implicit typecasting in python."
      ],
      "metadata": {
        "id": "Bm48JIiMl2vd"
      }
    },
    {
      "cell_type": "code",
      "source": [
        "# example\n",
        "x = 12\n",
        "y = 12.5\n",
        "print(x+y)\n",
        "print(type(x+y))"
      ],
      "metadata": {
        "colab": {
          "base_uri": "https://localhost:8080/"
        },
        "id": "r7IiGlgclrtA",
        "outputId": "c199368e-cfbc-4994-cf02-82a0085d57da"
      },
      "execution_count": null,
      "outputs": [
        {
          "output_type": "stream",
          "name": "stdout",
          "text": [
            "24.5\n",
            "<class 'float'>\n"
          ]
        }
      ]
    },
    {
      "cell_type": "markdown",
      "source": [
        "## Q6 How do conditional statements work in Python? Illustrate with examples\n",
        "\n",
        "\n",
        "\n",
        "\n",
        "\n",
        "### * Conditional Statements are statements in Python that provide a choice for the control flow based on a condition. It means that the control flow of the Python program will be decided based on the outcome of the condition.  \n",
        "\n",
        "# 1. If Conditional Statement in Python\n",
        "### If the simple code of block is to be performed if the condition holds then the if statement is used. Here the condition mentioned holds then the code of the block runs otherwise not.\n",
        "\n",
        "# Syntax of If Statement:\n",
        "\n",
        "# if condition:\n",
        "    # Statements to execute if\n",
        "    # condition is true\n",
        "\n",
        "\n",
        "   \n",
        "\n",
        "\n",
        "\n"
      ],
      "metadata": {
        "id": "F7nCLunPrsm3"
      }
    },
    {
      "cell_type": "code",
      "source": [
        "# if statement example\n",
        "if 10 > 5:\n",
        "    print(\"10 greater than 5\")\n",
        "\n",
        "print(\"Program ended\")"
      ],
      "metadata": {
        "id": "N-JnH3CC2eGh",
        "colab": {
          "base_uri": "https://localhost:8080/"
        },
        "outputId": "91fedd8c-ab75-4037-808a-b3b1ee731d96"
      },
      "execution_count": 1,
      "outputs": [
        {
          "output_type": "stream",
          "name": "stdout",
          "text": [
            "10 greater than 5\n",
            "Program ended\n"
          ]
        }
      ]
    },
    {
      "cell_type": "markdown",
      "source": [
        "## 2. If else Conditional Statements in Python\n",
        "## In a conditional if Statement the additional block of code is merged as an else statement which is performed when if condition is false.\n",
        "\n",
        "## Syntax of Python If-Else:\n",
        "\n",
        "## if (condition):\n",
        "    # Executes this block if\n",
        "    # condition is true\n",
        "# else:\n",
        "    # Executes this block if\n",
        "    # condition is false"
      ],
      "metadata": {
        "id": "1Pc8jSZ-tSrb"
      }
    },
    {
      "cell_type": "code",
      "source": [
        "# if..else statement example\n",
        "x = 10\n",
        "y = 20\n",
        "if x > y:\n",
        "    print(\"x is greater than y\")\n",
        "else:\n",
        "    print(\"x is not greater than y\")\n",
        "\n"
      ],
      "metadata": {
        "id": "8hwJbNob2TII",
        "colab": {
          "base_uri": "https://localhost:8080/"
        },
        "outputId": "5e6c9173-e628-42b2-e3fc-6380845f0e8b"
      },
      "execution_count": 2,
      "outputs": [
        {
          "output_type": "stream",
          "name": "stdout",
          "text": [
            "x is not greater than y\n"
          ]
        }
      ]
    },
    {
      "cell_type": "markdown",
      "source": [
        "# 3. Nested if..else Conditional Statements in Python\n",
        "## Nested if..else means an if-else statement inside another if statement. Or in simple words first, there is an outer if statement, and inside it another if – else statement is present and such type of statement is known as nested if statement. We can use one if or else if statement inside another if or else if statements."
      ],
      "metadata": {
        "id": "YxRnai38uy9T"
      }
    },
    {
      "cell_type": "code",
      "source": [
        "# nested if..else example\n",
        "traffic_light = \"green\"\n",
        "\n",
        "if traffic_light == \"green\":\n",
        "  print(\"green : go\")\n",
        "else:\n",
        "  if traffice_light == \"yellow\":\n",
        "    print(\"yellow : slow down \")\n",
        "  else:\n",
        "    if traffic_light == \"red\":\n",
        "        print(\"red : stop\")\n",
        "    else:\n",
        "          print(\"safe drive\")"
      ],
      "metadata": {
        "colab": {
          "base_uri": "https://localhost:8080/"
        },
        "id": "EOfoI-uVueG2",
        "outputId": "80e28ac6-4e38-4edf-b550-09635e467e15"
      },
      "execution_count": 3,
      "outputs": [
        {
          "output_type": "stream",
          "name": "stdout",
          "text": [
            "green : go\n"
          ]
        }
      ]
    },
    {
      "cell_type": "markdown",
      "source": [
        "# 4. If-elif-else Conditional Statements in Python\n",
        "## The if statements are executed from the top down. As soon as one of the conditions controlling the if is true, the statement associated with that if is executed, and the rest of the ladder is bypassed. If none of the conditions is true, then the final “else” statement will be executed."
      ],
      "metadata": {
        "id": "6SH6ajUx0mgk"
      }
    },
    {
      "cell_type": "code",
      "source": [
        "# if-elif statement example\n",
        "\n",
        "marks =78\n",
        "if (marks >=80) and (marks <=100):\n",
        "  print(\"Grade: A\")\n",
        "elif (marks >=70) and (marks < 80):\n",
        "  print(\"Grade: B\")\n",
        "elif (marks >=50) and (marks < 70):\n",
        "  print(\"Grade: C)\")\n",
        "elif (marks >=33) and (marks < 50):\n",
        "  print(\"Grade: D\")\n",
        "else:\n",
        "  print(\"Fail\")"
      ],
      "metadata": {
        "colab": {
          "base_uri": "https://localhost:8080/"
        },
        "id": "dnN76Zd_0k67",
        "outputId": "afa4fc4f-2475-4aee-edfd-34f91f7e3bb2"
      },
      "execution_count": 9,
      "outputs": [
        {
          "output_type": "stream",
          "name": "stdout",
          "text": [
            "Grade: B\n"
          ]
        }
      ]
    },
    {
      "cell_type": "markdown",
      "source": [
        "# Q7 Describe the different types of loops in Python and their use cases with examples\n",
        "\n",
        "# Python Loop\n",
        "### Python has two primitive loop commands:\n",
        "\n",
        "\n",
        "\n",
        "*   while loop\n",
        "*   for loop\n",
        "\n",
        "# While Loop in Python\n",
        "## In Python, a while loop is used to execute a block of statements repeatedly until a given condition is satisfied. When the condition becomes false, the line immediately after the loop in the program is executed.\n",
        "\n"
      ],
      "metadata": {
        "id": "xkLqLL0l3Yxm"
      }
    },
    {
      "cell_type": "code",
      "source": [
        "# example of while loop\n",
        "x = 0\n",
        "while x < 10:\n",
        "  print(x)\n",
        "  x = x+1"
      ],
      "metadata": {
        "colab": {
          "base_uri": "https://localhost:8080/"
        },
        "id": "n23eSwb759Xp",
        "outputId": "43f9f653-6149-48b7-c813-5796433f03a3"
      },
      "execution_count": 13,
      "outputs": [
        {
          "output_type": "stream",
          "name": "stdout",
          "text": [
            "0\n",
            "1\n",
            "2\n",
            "3\n",
            "4\n",
            "5\n",
            "6\n",
            "7\n",
            "8\n",
            "9\n"
          ]
        }
      ]
    },
    {
      "cell_type": "markdown",
      "source": [
        "# Using else statement with While Loop in Python\n",
        "## The else clause is only executed when your while condition becomes false. If you break out of the loop, or if an exception is raised, it won’t be executed."
      ],
      "metadata": {
        "id": "VH53TrVq6fiZ"
      }
    },
    {
      "cell_type": "code",
      "source": [
        "x = 0\n",
        "while x < 6:\n",
        "  print(x)\n",
        "  x = x+1\n",
        "else:\n",
        "  print(\"out of loop \")"
      ],
      "metadata": {
        "colab": {
          "base_uri": "https://localhost:8080/"
        },
        "id": "WA_d-G4n6m4P",
        "outputId": "97f5f88f-50a4-4d9d-bdac-017982ab0d24"
      },
      "execution_count": 15,
      "outputs": [
        {
          "output_type": "stream",
          "name": "stdout",
          "text": [
            "0\n",
            "1\n",
            "2\n",
            "3\n",
            "4\n",
            "5\n",
            "out of loop \n"
          ]
        }
      ]
    },
    {
      "cell_type": "markdown",
      "source": [
        "# for loop in python\n",
        "## The For Loops in Python are a special type of loop statement that is used for sequential traversal. Python For loop is used for iterating over an iterable like a String, Tuple, List, Set, or Dictionary."
      ],
      "metadata": {
        "id": "0ZyaUZgH7OHY"
      }
    },
    {
      "cell_type": "code",
      "source": [
        "# example of for loop\n",
        "for i in range(5):\n",
        "  print(i)"
      ],
      "metadata": {
        "colab": {
          "base_uri": "https://localhost:8080/"
        },
        "id": "jT2I9jUJ6M4p",
        "outputId": "7b9a37c3-b9c9-4846-8433-6724a6436d9e"
      },
      "execution_count": 16,
      "outputs": [
        {
          "output_type": "stream",
          "name": "stdout",
          "text": [
            "0\n",
            "1\n",
            "2\n",
            "3\n",
            "4\n"
          ]
        }
      ]
    },
    {
      "cell_type": "markdown",
      "source": [
        "# The break Statement\n",
        "## With the break statement we can stop the loop even if the while condition is true:"
      ],
      "metadata": {
        "id": "eECEIaka-iCi"
      }
    },
    {
      "cell_type": "code",
      "source": [
        "for i in range (6):\n",
        "  print(i)\n",
        "  if i ==5:\n",
        "    break\n",
        ""
      ],
      "metadata": {
        "colab": {
          "base_uri": "https://localhost:8080/"
        },
        "id": "be5bCY5786rO",
        "outputId": "ddbacf3b-879e-479e-c65c-b0f3d7671eb1"
      },
      "execution_count": 23,
      "outputs": [
        {
          "output_type": "stream",
          "name": "stdout",
          "text": [
            "0\n",
            "1\n",
            "2\n",
            "3\n",
            "4\n",
            "5\n"
          ]
        }
      ]
    },
    {
      "cell_type": "markdown",
      "source": [
        "# The continue Statement\n",
        "## With the continue statement we can stop the current iteration, and continue with the next:"
      ],
      "metadata": {
        "id": "DGI_XBmY-gqv"
      }
    },
    {
      "cell_type": "code",
      "source": [
        "for i in range(8):\n",
        "  if i == 4:\n",
        "    continue\n",
        "  print(i)"
      ],
      "metadata": {
        "colab": {
          "base_uri": "https://localhost:8080/"
        },
        "id": "2KFRTqlY_dlm",
        "outputId": "4d44eb49-941f-413d-d9b4-1127dd944ebd"
      },
      "execution_count": 22,
      "outputs": [
        {
          "output_type": "stream",
          "name": "stdout",
          "text": [
            "0\n",
            "1\n",
            "2\n",
            "3\n",
            "5\n",
            "6\n",
            "7\n"
          ]
        }
      ]
    }
  ]
}